{
 "cells": [
  {
   "cell_type": "markdown",
   "id": "e0b3e007",
   "metadata": {},
   "source": [
    "# Data Science Tools and Ecosystem"
   ]
  },
  {
   "cell_type": "markdown",
   "id": "69367f3e",
   "metadata": {},
   "source": [
    "In the following notebook, Data Science Tools and Ecosystem are summarized."
   ]
  },
  {
   "cell_type": "markdown",
   "id": "de05eb85",
   "metadata": {},
   "source": [
    "**Objectives:**\n",
    "\n",
    "- List Common libraries used by Data Scientists\n",
    "- List most popular languages for Data Science\n",
    "- Demonstrate examples of basic arithmetic in Python\n",
    "- Demonstrate examples of code and markdown cell is Jupyter Notebooks\n",
    "- Share notebook through GitHub"
   ]
  },
  {
   "cell_type": "markdown",
   "id": "3d21d9eb",
   "metadata": {},
   "source": [
    "Some of the most popular languages that Data Scientiests use are:\n",
    "\n",
    "1. Python\n",
    "2. R\n",
    "3. SQL\n",
    "4. Scala"
   ]
  },
  {
   "cell_type": "markdown",
   "id": "3695e480",
   "metadata": {},
   "source": [
    "Some of the most common libraires used by Data Scientists include:\n",
    "\n",
    "1. Pandas (Python)\n",
    "2. NumPy (Pyhton)\n",
    "3. SciKit-learn (Python)\n",
    "4. Vegas (Scala)\n",
    "5. ggplot2 (R)"
   ]
  },
  {
   "cell_type": "markdown",
   "id": "a57563e4",
   "metadata": {},
   "source": [
    "|Data Science Tools|\n",
    "|------------------|\n",
    "|RStudio|\n",
    "|Spyder|\n",
    "|MySQL|\n"
   ]
  },
  {
   "cell_type": "markdown",
   "id": "5908a192",
   "metadata": {},
   "source": [
    "### Below are a few examples of evaluating arithmetic expressions in Python"
   ]
  },
  {
   "cell_type": "code",
   "execution_count": 1,
   "id": "ccb4fb90",
   "metadata": {},
   "outputs": [
    {
     "data": {
      "text/plain": [
       "17"
      ]
     },
     "execution_count": 1,
     "metadata": {},
     "output_type": "execute_result"
    }
   ],
   "source": [
    "# This is a simple arithmetic expression to multiply then add integers\n",
    "(3*4)+5"
   ]
  },
  {
   "cell_type": "code",
   "execution_count": 2,
   "id": "b25f2c76",
   "metadata": {},
   "outputs": [
    {
     "data": {
      "text/plain": [
       "3.3333333333333335"
      ]
     },
     "execution_count": 2,
     "metadata": {},
     "output_type": "execute_result"
    }
   ],
   "source": [
    "# This will convert 200 minutes to hours by dividing by 60\n",
    "200 / 60"
   ]
  },
  {
   "cell_type": "markdown",
   "id": "7e2fd6ef",
   "metadata": {},
   "source": [
    "## Author\n",
    "\n",
    "Eric Howard"
   ]
  },
  {
   "cell_type": "code",
   "execution_count": null,
   "id": "250bd71f",
   "metadata": {},
   "outputs": [],
   "source": []
  }
 ],
 "metadata": {
  "kernelspec": {
   "display_name": "Python 3 (ipykernel)",
   "language": "python",
   "name": "python3"
  },
  "language_info": {
   "codemirror_mode": {
    "name": "ipython",
    "version": 3
   },
   "file_extension": ".py",
   "mimetype": "text/x-python",
   "name": "python",
   "nbconvert_exporter": "python",
   "pygments_lexer": "ipython3",
   "version": "3.11.4"
  }
 },
 "nbformat": 4,
 "nbformat_minor": 5
}
